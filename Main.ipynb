{
 "cells": [
  {
   "cell_type": "markdown",
   "metadata": {},
   "source": [
    "# Lab 1 - Python fundamentals\n",
    "## DNA decoding\n",
    "### Task 1\n",
    "Count the number of different DNA letters in each sequence."
   ]
  },
  {
   "cell_type": "code",
   "execution_count": 29,
   "metadata": {},
   "outputs": [
    {
     "name": "stdout",
     "output_type": "stream",
     "text": [
      "Counts for SEQ1:\n",
      "{'C': 8, 'G': 2, 'T': 7, 'A': 17}\n",
      "\n",
      "Counts for SEQ2:\n",
      "{'A': 3, 'G': 10, 'C': 4, 'T': 7}\n",
      "\n",
      "Counts for SEQ3:\n",
      "{'G': 21, 'C': 34, 'A': 36, 'T': 19}\n",
      "\n",
      "Counts for SEQ4:\n",
      "{'G': 20, 'C': 15, 'A': 17, 'T': 12}\n",
      "\n"
     ]
    }
   ],
   "source": [
    "# ----------------------------------------------------------------------------------\n",
    "# MODULES\n",
    "from collections import Counter\n",
    "# ----------------------------------------------------------------------------------\n",
    "# FUNCTIONS\n",
    "# Open file with DNA sequence, extract data, store it in a list, and close it\n",
    "def open_and_extract_data_from_file():\n",
    "    sequences = []  # List to store sequence dictionaries\n",
    "    current_seq = None  # Temporary dictionary to store a sequence\n",
    "\n",
    "    with open('data/dna_raw_complicated.txt', 'r') as dna_file:\n",
    "        for line in dna_file:\n",
    "            line = line.strip().upper()  # Remove whitespaces and lowercase all letters\n",
    "\n",
    "            if line.startswith('>'):  # If it's a header (beginning of sequence)\n",
    "                if current_seq is not None: # ('is not None' can be skipped)\n",
    "                    sequences.append(current_seq)  # Save previous sequence\n",
    "\n",
    "                # Create a new sequence dictionary\n",
    "                current_seq = {\"id\": line[1:], \"sequence\": \"\"}\n",
    "            else:\n",
    "                if current_seq is not None:\n",
    "                    current_seq[\"sequence\"] += line  # Append sequence data\n",
    "\n",
    "        if current_seq is not None:\n",
    "            sequences.append(current_seq)  # Add last sequence\n",
    "\n",
    "    return sequences  # Return the list of sequences\n",
    "# ----------------------------------------------------------------------------------\n",
    "# Count each letter in each dictionary's 'sequence'-key and store it \n",
    "def count_letters_in_sequence(sequence_string):\n",
    "    letter_count = Counter(sequence_string)\n",
    "\n",
    "    # Filter out unwanted letters\n",
    "    filtered_count = {key: value for key, value in letter_count.items() if key in {'A', 'C', 'T', 'G'}}\n",
    "\n",
    "    print(filtered_count)\n",
    "\n",
    "# ----------------------------------------------------------------------------------\n",
    "# Print the result\n",
    "def print_letters_per_seq(sequences):\n",
    "    for seq in sequences:\n",
    "        print(f\"Counts for {seq['id']}:\")\n",
    "        count_letters_in_sequence(seq[\"sequence\"])\n",
    "        print()  # Blank line for readability\n",
    "# ----------------------------------------------------------------------------------\n",
    "# Graph the result (with matplotlib - need to read up on this)\n",
    "# ----------------------------------------------------------------------------------\n",
    "# MAIN PROGRAM\n",
    "# Adds elements (dictionaries) to a list with the help of a function\n",
    "sequences = open_and_extract_data_from_file()\n",
    "\n",
    "print_letters_per_seq(sequences)\n",
    "\n",
    "\n",
    "\n"
   ]
  },
  {
   "cell_type": "markdown",
   "metadata": {},
   "source": [
    "### Task 2"
   ]
  },
  {
   "cell_type": "code",
   "execution_count": null,
   "metadata": {},
   "outputs": [],
   "source": []
  }
 ],
 "metadata": {
  "kernelspec": {
   "display_name": ".venv",
   "language": "python",
   "name": "python3"
  },
  "language_info": {
   "codemirror_mode": {
    "name": "ipython",
    "version": 3
   },
   "file_extension": ".py",
   "mimetype": "text/x-python",
   "name": "python",
   "nbconvert_exporter": "python",
   "pygments_lexer": "ipython3",
   "version": "3.13.2"
  }
 },
 "nbformat": 4,
 "nbformat_minor": 2
}
